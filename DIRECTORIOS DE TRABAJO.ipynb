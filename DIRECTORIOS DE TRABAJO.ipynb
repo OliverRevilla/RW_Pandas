{
 "cells": [
  {
   "cell_type": "markdown",
   "metadata": {},
   "source": [
    "# DIRECTORIOS DE TRABAJO"
   ]
  },
  {
   "cell_type": "code",
   "execution_count": 3,
   "metadata": {},
   "outputs": [],
   "source": [
    "import os"
   ]
  },
  {
   "cell_type": "code",
   "execution_count": 4,
   "metadata": {},
   "outputs": [
    {
     "data": {
      "text/plain": [
       "'C:\\\\Users\\\\Andres'"
      ]
     },
     "execution_count": 4,
     "metadata": {},
     "output_type": "execute_result"
    }
   ],
   "source": [
    "os.getcwd()"
   ]
  },
  {
   "cell_type": "code",
   "execution_count": 5,
   "metadata": {},
   "outputs": [
    {
     "data": {
      "text/plain": [
       "['.azuredatastudio',\n",
       " '.bash_history',\n",
       " '.conda',\n",
       " '.condarc',\n",
       " '.git',\n",
       " '.gitconfig',\n",
       " '.ipynb_checkpoints',\n",
       " '.ipython',\n",
       " '.jupyter',\n",
       " '.matplotlib',\n",
       " '.pylint.d',\n",
       " '.spyder-py3',\n",
       " '.ssh',\n",
       " '.viminfo',\n",
       " '.VirtualBox',\n",
       " '.vscode',\n",
       " '3D Objects',\n",
       " 'anaconda3',\n",
       " 'AppData',\n",
       " 'Application Data',\n",
       " 'Chat de WhatsApp con IRBSA KIDS 👻👻.txt',\n",
       " 'Configuración local',\n",
       " 'Contacts',\n",
       " 'Cookies',\n",
       " 'CUADERNO.ipynb',\n",
       " 'Datos de programa',\n",
       " 'Desktop',\n",
       " 'DIRECTORIOS DE TRABAJO.ipynb',\n",
       " 'Documents',\n",
       " 'Downloads',\n",
       " 'Dropbox',\n",
       " 'Entorno de red',\n",
       " 'Favorites',\n",
       " 'Festo',\n",
       " 'Impresoras',\n",
       " 'InstallAnywhere',\n",
       " 'IntelGraphicsProfiles',\n",
       " 'Links',\n",
       " 'Menú Inicio',\n",
       " 'MicrosoftEdgeBackups',\n",
       " 'Mis documentos',\n",
       " 'Music',\n",
       " 'NTUSER.DAT',\n",
       " 'ntuser.dat.LOG1',\n",
       " 'ntuser.dat.LOG2',\n",
       " 'NTUSER.DAT{64584c55-ea4d-11ea-9d1f-c8470d2d6430}.TM.blf',\n",
       " 'NTUSER.DAT{64584c55-ea4d-11ea-9d1f-c8470d2d6430}.TMContainer00000000000000000001.regtrans-ms',\n",
       " 'NTUSER.DAT{64584c55-ea4d-11ea-9d1f-c8470d2d6430}.TMContainer00000000000000000002.regtrans-ms',\n",
       " 'ntuser.ini',\n",
       " 'numpy_ed.ipynb',\n",
       " 'OneDrive',\n",
       " 'Pandas Introduction.ipynb',\n",
       " 'Pandas_in_depth.ipynb',\n",
       " 'Pandas_R_W.ipynb',\n",
       " 'Pictures',\n",
       " 'Plantillas',\n",
       " 'Python',\n",
       " 'QUIZ COURSERA.ipynb',\n",
       " 'Reciente',\n",
       " 'Regular Expressions.ipynb',\n",
       " 'RW_Pandas',\n",
       " 'Saved Games',\n",
       " 'Searches',\n",
       " 'SendTo',\n",
       " 'Unidad 1 Coursera.ipynb',\n",
       " 'Videos',\n",
       " 'VirtualBox VMs',\n",
       " 'WhatsApp-Group-Chat-Analysis']"
      ]
     },
     "execution_count": 5,
     "metadata": {},
     "output_type": "execute_result"
    }
   ],
   "source": [
    "os.listdir()"
   ]
  },
  {
   "cell_type": "code",
   "execution_count": 7,
   "metadata": {},
   "outputs": [],
   "source": [
    "os.chdir(r'C:\\Users\\Andres\\Desktop\\Python-course\\COURSERA') # Usar el r' delante importante"
   ]
  },
  {
   "cell_type": "code",
   "execution_count": 8,
   "metadata": {},
   "outputs": [
    {
     "data": {
      "text/plain": [
       "'C:\\\\Users\\\\Andres\\\\Desktop\\\\Python-course\\\\COURSERA'"
      ]
     },
     "execution_count": 8,
     "metadata": {},
     "output_type": "execute_result"
    }
   ],
   "source": [
    "os.getcwd()"
   ]
  },
  {
   "cell_type": "code",
   "execution_count": null,
   "metadata": {},
   "outputs": [],
   "source": []
  }
 ],
 "metadata": {
  "kernelspec": {
   "display_name": "Python 3",
   "language": "python",
   "name": "python3"
  },
  "language_info": {
   "codemirror_mode": {
    "name": "ipython",
    "version": 3
   },
   "file_extension": ".py",
   "mimetype": "text/x-python",
   "name": "python",
   "nbconvert_exporter": "python",
   "pygments_lexer": "ipython3",
   "version": "3.8.2"
  }
 },
 "nbformat": 4,
 "nbformat_minor": 4
}
